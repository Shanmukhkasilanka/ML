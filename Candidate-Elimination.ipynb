{
 "cells": [
  {
   "cell_type": "code",
   "execution_count": 1,
   "id": "eb5b3217",
   "metadata": {},
   "outputs": [],
   "source": [
    "import csv"
   ]
  },
  {
   "cell_type": "code",
   "execution_count": 2,
   "id": "1b1dff5c",
   "metadata": {},
   "outputs": [
    {
     "name": "stdout",
     "output_type": "stream",
     "text": [
      "\n",
      " Steps of Candidate Elimination Algoritrhm\n",
      " 5\n",
      "['Sunny', 'Warm', '?', '?', '?', '?']\n",
      "[['Sunny', '?', '?', '?', '?', '?'], ['?', 'Warm', '?', '?', '?', '?'], ['?', '?', '?', '?', '?', '?'], ['?', '?', '?', '?', '?', '?'], ['?', '?', '?', '?', '?', '?'], ['?', '?', '?', '?', '?', '?']]\n"
     ]
    }
   ],
   "source": [
    "with open(\"Weather.csv\") as f:\n",
    "    csv_file = csv.reader(f)\n",
    "    data = list(csv_file)\n",
    "    specific_h = data[1][:-1]\n",
    "    general_h = [['?' for i in range(len(specific_h))] for j in range(len(specific_h))]\n",
    "    for i in data :\n",
    "        if i[-1] == \"Yes\":\n",
    "            for j in range(len(specific_h)):\n",
    "                if i[j] != specific_h[j]:\n",
    "                    specific_h[j]='?'\n",
    "                    general_h[j][j]='?'\n",
    "        elif i[-1] == \"No\":\n",
    "            for j in range(len(specific_h)):\n",
    "                if i[j] != specific_h[j]:\n",
    "                    general_h[j][j]=specific_h[j]\n",
    "                else:\n",
    "                    general_h[j][j]='?'\n",
    "    print(\"\\n Steps of Candidate Elimination Algoritrhm\\n\",data.index(i)+1)\n",
    "    print(specific_h)\n",
    "    print(general_h)"
   ]
  },
  {
   "cell_type": "code",
   "execution_count": 3,
   "id": "0ea8a0d8",
   "metadata": {},
   "outputs": [],
   "source": [
    "gh = []"
   ]
  },
  {
   "cell_type": "code",
   "execution_count": 4,
   "id": "3c1294a8",
   "metadata": {},
   "outputs": [],
   "source": [
    "for i in general_h:\n",
    "    for j in i:\n",
    "        if j!='?':\n",
    "            gh.append(i)\n",
    "            break"
   ]
  },
  {
   "cell_type": "code",
   "execution_count": 5,
   "id": "877b43dc",
   "metadata": {},
   "outputs": [
    {
     "name": "stdout",
     "output_type": "stream",
     "text": [
      "\n",
      "Final specific hypothesis :\n",
      " ['Sunny', 'Warm', '?', '?', '?', '?']\n"
     ]
    }
   ],
   "source": [
    "print(\"\\nFinal specific hypothesis :\\n\",specific_h)"
   ]
  },
  {
   "cell_type": "code",
   "execution_count": 6,
   "id": "2caa517e",
   "metadata": {},
   "outputs": [
    {
     "name": "stdout",
     "output_type": "stream",
     "text": [
      "\n",
      "Final general hypothesis :\n",
      " [['Sunny', '?', '?', '?', '?', '?'], ['?', 'Warm', '?', '?', '?', '?']]\n"
     ]
    }
   ],
   "source": [
    "print(\"\\nFinal general hypothesis :\\n\",gh)"
   ]
  },
  {
   "cell_type": "code",
   "execution_count": 7,
   "id": "f975b9ef",
   "metadata": {},
   "outputs": [
    {
     "name": "stdout",
     "output_type": "stream",
     "text": [
      "\n",
      " The Maximally specific hypothesis for the training instance is \n"
     ]
    }
   ],
   "source": [
    "print(\"\\n The Maximally specific hypothesis for the training instance is \")\n",
    "#print(hypothesis)"
   ]
  },
  {
   "cell_type": "code",
   "execution_count": null,
   "id": "1d7fd69b",
   "metadata": {},
   "outputs": [],
   "source": []
  }
 ],
 "metadata": {
  "kernelspec": {
   "display_name": "Python 3 (ipykernel)",
   "language": "python",
   "name": "python3"
  },
  "language_info": {
   "codemirror_mode": {
    "name": "ipython",
    "version": 3
   },
   "file_extension": ".py",
   "mimetype": "text/x-python",
   "name": "python",
   "nbconvert_exporter": "python",
   "pygments_lexer": "ipython3",
   "version": "3.11.4"
  }
 },
 "nbformat": 4,
 "nbformat_minor": 5
}
