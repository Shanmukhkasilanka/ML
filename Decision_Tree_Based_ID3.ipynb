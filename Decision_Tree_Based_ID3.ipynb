{
 "cells": [
  {
   "cell_type": "code",
   "execution_count": 1,
   "id": "e633a8c6",
   "metadata": {},
   "outputs": [],
   "source": [
    "import math\n",
    "import csv"
   ]
  },
  {
   "cell_type": "code",
   "execution_count": 13,
   "id": "e4db0d93",
   "metadata": {},
   "outputs": [],
   "source": [
    "def load_csv(filename):\n",
    "    lines = csv.reader(open(filename,\"r\"))\n",
    "    dataset = list(lines)\n",
    "    for line in dataset:\n",
    "        line.pop(0)\n",
    "    headers = dataset.pop(0)\n",
    "    return dataset,headers"
   ]
  },
  {
   "cell_type": "code",
   "execution_count": 3,
   "id": "926da56b",
   "metadata": {},
   "outputs": [],
   "source": [
    "class Node:\n",
    "    def __init__ (self,attribute):\n",
    "        self.attribute = attribute\n",
    "        self.children = []\n",
    "        self.answer = \"\""
   ]
  },
  {
   "cell_type": "code",
   "execution_count": 4,
   "id": "16b46a71",
   "metadata": {},
   "outputs": [],
   "source": [
    "def subtables(data,col,delete):\n",
    "    dic = {}\n",
    "    coldata = [row[col] for row in data]\n",
    "    attr = list(set(coldata))\n",
    "    counts = [0]*len(attr)\n",
    "    r = len(data)\n",
    "    c = len(data[0])\n",
    "    for x in range(len(attr)):\n",
    "        for y in range(r):\n",
    "            if data[y][col] == attr[x]:\n",
    "                counts[x] += 1\n",
    "    for x in range(len(attr)):\n",
    "        dic[attr[x]] = [[0 for i in range(c)] for j in range(counts[x])]\n",
    "        pos = 0\n",
    "        for y in range(r):\n",
    "            if data[y][col] == attr[x]:\n",
    "                if delete:\n",
    "                    del data[y][col]\n",
    "                dic[attr[x]][pos] = data[y]\n",
    "                pos += 1\n",
    "    return attr,dic"
   ]
  },
  {
   "cell_type": "code",
   "execution_count": 5,
   "id": "1f404771",
   "metadata": {},
   "outputs": [],
   "source": [
    "def entropy(S):\n",
    "    attr = list(set(S))\n",
    "    if len(attr) == 1:\n",
    "        return 0\n",
    "    counts = [0,0]\n",
    "    for i in range(2):\n",
    "        counts[i] = sum([1 for x in S if attr[i] == x])/(len(S)*1.0)\n",
    "    sums = 0\n",
    "    for cnt in counts:\n",
    "        sums += -1*cnt*math.log(cnt,2)\n",
    "    return sums"
   ]
  },
  {
   "cell_type": "code",
   "execution_count": 6,
   "id": "b3f014e7",
   "metadata": {},
   "outputs": [],
   "source": [
    "def compute_gain(data,col):\n",
    "    attr,dic = subtables(data,col,delete = False)\n",
    "    total_size = len(data)\n",
    "    entropies = [0]*len(attr)\n",
    "    ratio = [0]*len(attr)\n",
    "    total_entropy = entropy([row[-1] for row in data])\n",
    "    for x in range(len(attr)):\n",
    "        ratio[x] = len(dic[attr[x]])/(total_size*1.0)\n",
    "        entropies[x] = entropy([row[-1] for row in dic[attr[x]]])\n",
    "        total_entropy = ratio[x]*entropies[x]\n",
    "    return total_entropy"
   ]
  },
  {
   "cell_type": "code",
   "execution_count": 7,
   "id": "a21194d9",
   "metadata": {},
   "outputs": [],
   "source": [
    "def build_tree(data,features):\n",
    "    lastcol = [row[-1] for row in data]\n",
    "    if(len(set(lastcol))) == 1:\n",
    "        node = Node(\"\")\n",
    "        node.answer = lastcol[0]\n",
    "        return node\n",
    "    n = len (data[0])-1\n",
    "    gains = [0]*n\n",
    "    for col in range(n):\n",
    "        gains[col] = compute_gain(data,col)\n",
    "    split = gains.index(max(gains))\n",
    "    node = Node(features[split])\n",
    "    fea = features[:split] + features[split+1:]\n",
    "    attr,dic = subtables(data,split,delete = True)\n",
    "    for x in range(len(attr)):\n",
    "        child = build_tree(dic[attr[x]],fea)\n",
    "        node.children.append((attr[x],child))\n",
    "    return node"
   ]
  },
  {
   "cell_type": "code",
   "execution_count": 8,
   "id": "f2369a1b",
   "metadata": {},
   "outputs": [],
   "source": [
    "def print_tree(node,level):\n",
    "    if node.answer != \"\":\n",
    "        print(\" \"*level,node.answer)\n",
    "        return\n",
    "    print(\" \"*level,node.attribute)\n",
    "    for value,n in node.children:\n",
    "        print(\" \"*(level+1),value)\n",
    "        print_tree(n,level+2)"
   ]
  },
  {
   "cell_type": "code",
   "execution_count": 9,
   "id": "44bc1f70",
   "metadata": {},
   "outputs": [],
   "source": [
    "def classify(node,x_test,features):\n",
    "    if node.answer != \"\":\n",
    "        print(node.answer)\n",
    "        return \n",
    "    pos = features.index(node.attribute)\n",
    "    for value,n in node.children:\n",
    "        if x_test[pos] == value:\n",
    "            classify(n,x_test,features)"
   ]
  },
  {
   "cell_type": "code",
   "execution_count": 14,
   "id": "fcca8f47",
   "metadata": {},
   "outputs": [
    {
     "name": "stdout",
     "output_type": "stream",
     "text": [
      "The decision tree for the dataset using ID3 algorithm is\n",
      " Wind\n",
      "  Weak\n",
      "   Temperature\n",
      "    Mild\n",
      "     Outlook\n",
      "      Rain\n",
      "       Yes\n",
      "      Sunny\n",
      "       No\n",
      "    Cool\n",
      "     Yes\n",
      "    Hot\n",
      "     Outlook\n",
      "      Sunny\n",
      "       No\n",
      "      Overcast\n",
      "       Yes\n",
      "  Strong\n",
      "   Humidity\n",
      "    High\n",
      "     Outlook\n",
      "      Rain\n",
      "       No\n",
      "      Sunny\n",
      "       No\n",
      "      Overcast\n",
      "       Yes\n",
      "    Normal\n",
      "     Temperature\n",
      "      Mild\n",
      "       Yes\n",
      "      Cool\n",
      "       Outlook\n",
      "        Rain\n",
      "         No\n",
      "        Overcast\n",
      "         Yes\n",
      "The test instance :  ['Rain', 'Cool', 'Normal', 'Strong']\n",
      "The label for test instance :  No\n",
      "The test instance :  ['Sunny', 'Mild', 'Normal', 'Strong']\n",
      "The label for test instance :  Yes\n"
     ]
    }
   ],
   "source": [
    "'''Main Program'''\n",
    "dataset,features = load_csv(\"data3.csv\")\n",
    "node1 = build_tree(dataset,features)\n",
    "\n",
    "print(\"The decision tree for the dataset using ID3 algorithm is\")\n",
    "print_tree(node1,0)\n",
    "testdata,features = load_csv(\"data3_test.csv\")\n",
    "for xtest in testdata:\n",
    "    print(\"The test instance : \",xtest)\n",
    "    print(\"The label for test instance : \",end = \" \")\n",
    "    classify(node1,xtest,features)"
   ]
  },
  {
   "cell_type": "code",
   "execution_count": null,
   "id": "098c139d",
   "metadata": {},
   "outputs": [],
   "source": []
  },
  {
   "cell_type": "code",
   "execution_count": null,
   "id": "5d9699e4",
   "metadata": {},
   "outputs": [],
   "source": []
  }
 ],
 "metadata": {
  "kernelspec": {
   "display_name": "Python 3 (ipykernel)",
   "language": "python",
   "name": "python3"
  },
  "language_info": {
   "codemirror_mode": {
    "name": "ipython",
    "version": 3
   },
   "file_extension": ".py",
   "mimetype": "text/x-python",
   "name": "python",
   "nbconvert_exporter": "python",
   "pygments_lexer": "ipython3",
   "version": "3.11.4"
  }
 },
 "nbformat": 4,
 "nbformat_minor": 5
}
