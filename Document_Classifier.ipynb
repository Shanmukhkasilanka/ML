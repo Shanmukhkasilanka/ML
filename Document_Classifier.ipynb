{
 "cells": [
  {
   "cell_type": "code",
   "execution_count": 1,
   "id": "8c446fa5",
   "metadata": {},
   "outputs": [],
   "source": [
    "import pandas as pd\n",
    "from sklearn.model_selection import train_test_split\n",
    "from sklearn.feature_extraction.text import CountVectorizer\n",
    "from sklearn.naive_bayes import MultinomialNB\n",
    "from sklearn import metrics"
   ]
  },
  {
   "cell_type": "code",
   "execution_count": 2,
   "id": "d3ea1646",
   "metadata": {},
   "outputs": [
    {
     "name": "stdout",
     "output_type": "stream",
     "text": [
      "The dimension of the dataset (19, 2)\n"
     ]
    }
   ],
   "source": [
    "msg = pd.read_csv('naivetext.csv',names=['message','label'])\n",
    "print('The dimension of the dataset',msg.shape)"
   ]
  },
  {
   "cell_type": "code",
   "execution_count": 3,
   "id": "1d1c0db9",
   "metadata": {},
   "outputs": [],
   "source": [
    "msg.drop('S.No',axis = 0,inplace = True)"
   ]
  },
  {
   "cell_type": "code",
   "execution_count": 4,
   "id": "82a30ca4",
   "metadata": {},
   "outputs": [],
   "source": [
    "msg['labelnum'] = msg.label.map({'pos':1,'neg':2})"
   ]
  },
  {
   "cell_type": "code",
   "execution_count": 5,
   "id": "96ecd26d",
   "metadata": {},
   "outputs": [],
   "source": [
    "x = msg.message\n",
    "y = msg.labelnum"
   ]
  },
  {
   "cell_type": "code",
   "execution_count": 6,
   "id": "4a671ff2",
   "metadata": {},
   "outputs": [],
   "source": [
    "xtrain,xtest,ytrain,ytest = train_test_split(x,y)"
   ]
  },
  {
   "cell_type": "code",
   "execution_count": 7,
   "id": "5a6ef24c",
   "metadata": {},
   "outputs": [
    {
     "name": "stdout",
     "output_type": "stream",
     "text": [
      "\n",
      " The total number of Training Data :  (13,)\n",
      "\n",
      " The total number of Test Data :  (5,)\n"
     ]
    }
   ],
   "source": [
    "print('\\n The total number of Training Data : ',ytrain.shape)\n",
    "print('\\n The total number of Test Data : ',ytest.shape)"
   ]
  },
  {
   "cell_type": "code",
   "execution_count": 8,
   "id": "e1e75772",
   "metadata": {},
   "outputs": [],
   "source": [
    "cv = CountVectorizer()"
   ]
  },
  {
   "cell_type": "code",
   "execution_count": 9,
   "id": "0bdbdb7e",
   "metadata": {},
   "outputs": [],
   "source": [
    "xtrain_dtm = cv.fit_transform(xtrain)"
   ]
  },
  {
   "cell_type": "code",
   "execution_count": 10,
   "id": "4c005a77",
   "metadata": {},
   "outputs": [],
   "source": [
    "xtest_dtm = cv.transform(xtest)"
   ]
  },
  {
   "cell_type": "code",
   "execution_count": 11,
   "id": "9484e413",
   "metadata": {},
   "outputs": [
    {
     "name": "stdout",
     "output_type": "stream",
     "text": [
      "\n",
      " The words or Tokens in the text documents \n",
      "\n",
      "['about' 'am' 'an' 'and' 'awesome' 'bad' 'beers' 'best' 'boss' 'can'\n",
      " 'dance' 'deal' 'do' 'enemy' 'feel' 'fun' 'good' 'have' 'he' 'horrible'\n",
      " 'house' 'is' 'like' 'locality' 'love' 'my' 'not' 'of' 'place'\n",
      " 'restaurant' 'sick' 'stay' 'sworn' 'that' 'these' 'this' 'tired' 'to'\n",
      " 'today' 'tomorrow' 'very' 'view' 'we' 'went' 'what' 'will' 'with' 'work']\n"
     ]
    }
   ],
   "source": [
    "print('\\n The words or Tokens in the text documents \\n')\n",
    "print(cv.get_feature_names_out())"
   ]
  },
  {
   "cell_type": "code",
   "execution_count": 12,
   "id": "8086ceae",
   "metadata": {},
   "outputs": [],
   "source": [
    "df = pd.DataFrame(xtrain_dtm.toarray(),columns = cv.get_feature_names_out())"
   ]
  },
  {
   "cell_type": "code",
   "execution_count": 13,
   "id": "3c3c7c33",
   "metadata": {},
   "outputs": [],
   "source": [
    "clf = MultinomialNB().fit(xtrain_dtm,ytrain)\n",
    "predicted = clf.predict(xtest_dtm)"
   ]
  },
  {
   "cell_type": "code",
   "execution_count": 14,
   "id": "81c89815",
   "metadata": {},
   "outputs": [
    {
     "name": "stdout",
     "output_type": "stream",
     "text": [
      "\n",
      " Accuracy of the classifier is\n",
      "1.0\n"
     ]
    }
   ],
   "source": [
    "print('\\n Accuracy of the classifier is')\n",
    "print(metrics.accuracy_score(ytest,predicted))"
   ]
  },
  {
   "cell_type": "code",
   "execution_count": 15,
   "id": "a5caaf31",
   "metadata": {},
   "outputs": [
    {
     "name": "stdout",
     "output_type": "stream",
     "text": [
      "\n",
      " Confusion matrix\n",
      "[[3 0]\n",
      " [0 2]]\n"
     ]
    }
   ],
   "source": [
    "print('\\n Confusion matrix')\n",
    "print(metrics.confusion_matrix(ytest,predicted))"
   ]
  },
  {
   "cell_type": "code",
   "execution_count": 16,
   "id": "4d065938",
   "metadata": {},
   "outputs": [
    {
     "name": "stdout",
     "output_type": "stream",
     "text": [
      "\n",
      " The value of Precision\n",
      "1.0\n"
     ]
    }
   ],
   "source": [
    "print('\\n The value of Precision')\n",
    "print(metrics.precision_score(ytest,predicted))"
   ]
  },
  {
   "cell_type": "code",
   "execution_count": 17,
   "id": "17156712",
   "metadata": {},
   "outputs": [
    {
     "name": "stdout",
     "output_type": "stream",
     "text": [
      "\n",
      " The value of Recall\n",
      "1.0\n"
     ]
    }
   ],
   "source": [
    "print('\\n The value of Recall')\n",
    "print(metrics.recall_score(ytest,predicted))"
   ]
  },
  {
   "cell_type": "code",
   "execution_count": null,
   "id": "ce6b6b1f",
   "metadata": {},
   "outputs": [],
   "source": []
  }
 ],
 "metadata": {
  "kernelspec": {
   "display_name": "Python 3 (ipykernel)",
   "language": "python",
   "name": "python3"
  },
  "language_info": {
   "codemirror_mode": {
    "name": "ipython",
    "version": 3
   },
   "file_extension": ".py",
   "mimetype": "text/x-python",
   "name": "python",
   "nbconvert_exporter": "python",
   "pygments_lexer": "ipython3",
   "version": "3.11.4"
  }
 },
 "nbformat": 4,
 "nbformat_minor": 5
}
