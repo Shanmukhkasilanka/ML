{
 "cells": [
  {
   "cell_type": "code",
   "execution_count": 2,
   "id": "c829a76f",
   "metadata": {},
   "outputs": [],
   "source": [
    "import csv"
   ]
  },
  {
   "cell_type": "code",
   "execution_count": 3,
   "id": "ac7fdae5",
   "metadata": {},
   "outputs": [],
   "source": [
    "a = []"
   ]
  },
  {
   "cell_type": "code",
   "execution_count": 4,
   "id": "92e65121",
   "metadata": {},
   "outputs": [
    {
     "name": "stdout",
     "output_type": "stream",
     "text": [
      "[['Sky', 'AirTemp', 'Humidity', 'Wind', 'Water', 'Forecast', 'EnjoySport'], ['Sunny', 'Warm', 'Normal', 'Strong', 'Warm', 'Same', 'Yes'], ['Sunny', 'Warm', 'High', 'Strong', 'Warm', 'Same', 'Yes'], ['Rain', 'Cold', 'High', 'Strong', 'Warm', 'Change', 'No'], ['Sunny', 'Warm', 'High', 'Weak', 'Cool', 'Change', 'Yes']]\n"
     ]
    }
   ],
   "source": [
    "with open(\"C:/Users/Admin/Desktop/7227-ML/Weather.csv\",'r') as csvfile:\n",
    "    for row in csv.reader(csvfile):\n",
    "        a.append(row)\n",
    "    print(a)"
   ]
  },
  {
   "cell_type": "code",
   "execution_count": 5,
   "id": "eb1cdb0f",
   "metadata": {},
   "outputs": [
    {
     "name": "stdout",
     "output_type": "stream",
     "text": [
      "\n",
      " The total number of training instances are :  5\n"
     ]
    }
   ],
   "source": [
    "print(\"\\n The total number of training instances are : \",len(a))"
   ]
  },
  {
   "cell_type": "code",
   "execution_count": 6,
   "id": "84e30829",
   "metadata": {},
   "outputs": [],
   "source": [
    "num_attribute = len(a[0])-1"
   ]
  },
  {
   "cell_type": "code",
   "execution_count": 21,
   "id": "272beb6e",
   "metadata": {},
   "outputs": [
    {
     "name": "stdout",
     "output_type": "stream",
     "text": [
      "\n",
      " The initial hypothesis is :\n",
      "['0', '0', '0', '0', '0', '0']\n"
     ]
    }
   ],
   "source": [
    "print(\"\\n The initial hypothesis is :\")\n",
    "hypothesis = ['0']*num_attribute\n",
    "print(hypothesis)"
   ]
  },
  {
   "cell_type": "code",
   "execution_count": 22,
   "id": "4bd0023b",
   "metadata": {},
   "outputs": [
    {
     "name": "stdout",
     "output_type": "stream",
     "text": [
      "\n",
      " The hypothesis for the training instance 1 is :\n",
      " ['0', '0', '0', '0', '0', '0']\n",
      "\n",
      " The hypothesis for the training instance 2 is :\n",
      " ['Sunny', 'Warm', 'Normal', 'Strong', 'Warm', 'Same']\n",
      "\n",
      " The hypothesis for the training instance 3 is :\n",
      " ['Sunny', 'Warm', '?', 'Strong', 'Warm', 'Same']\n",
      "\n",
      " The hypothesis for the training instance 4 is :\n",
      " ['Sunny', 'Warm', '?', 'Strong', 'Warm', 'Same']\n",
      "\n",
      " The hypothesis for the training instance 5 is :\n",
      " ['Sunny', 'Warm', '?', '?', '?', '?']\n"
     ]
    }
   ],
   "source": [
    "for i in range(0,len(a)):\n",
    "    if a[i][num_attribute]=='Yes' :\n",
    "        for j in range(0,num_attribute):\n",
    "            if hypothesis[j]=='0' or hypothesis[j]==a[i][j]:\n",
    "                hypothesis[j] = a[i][j]\n",
    "            else:\n",
    "                hypothesis[j] = '?'\n",
    "    print(\"\\n The hypothesis for the training instance {} is :\\n\".format(i+1),hypothesis)"
   ]
  },
  {
   "cell_type": "code",
   "execution_count": 14,
   "id": "1c2f0894",
   "metadata": {},
   "outputs": [
    {
     "name": "stdout",
     "output_type": "stream",
     "text": [
      "\n",
      " The Maximally specific hypothesis for the training instance is \n",
      "['Sunny', 'Warm', '?', '?', '?', '?']\n"
     ]
    }
   ],
   "source": [
    "print(\"\\n The Maximally specific hypothesis for the training instance is \")\n",
    "print(hypothesis)"
   ]
  },
  {
   "cell_type": "code",
   "execution_count": null,
   "id": "1f0554be",
   "metadata": {},
   "outputs": [],
   "source": []
  }
 ],
 "metadata": {
  "kernelspec": {
   "display_name": "Python 3 (ipykernel)",
   "language": "python",
   "name": "python3"
  },
  "language_info": {
   "codemirror_mode": {
    "name": "ipython",
    "version": 3
   },
   "file_extension": ".py",
   "mimetype": "text/x-python",
   "name": "python",
   "nbconvert_exporter": "python",
   "pygments_lexer": "ipython3",
   "version": "3.11.4"
  }
 },
 "nbformat": 4,
 "nbformat_minor": 5
}
