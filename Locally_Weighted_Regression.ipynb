{
 "cells": [
  {
   "cell_type": "code",
   "execution_count": 1,
   "id": "8af2b89b",
   "metadata": {},
   "outputs": [],
   "source": [
    "import numpy as np\n",
    "from bokeh.plotting import figure, show,output_notebook\n",
    "from bokeh.layouts import gridplot\n",
    "from bokeh.io import push_notebook\n",
    "\n"
   ]
  },
  {
   "cell_type": "code",
   "execution_count": 2,
   "id": "417717ce",
   "metadata": {},
   "outputs": [],
   "source": [
    "def local_regression(xO, X, Y, tau):\n",
    "    xO = np.r_[1,xO]\n",
    "    X = np.c_[np.ones(len(X)), X]\n",
    "    xw = X.T * radial_kernel(xO, X, tau)\n",
    "    beta = np.linalg.pinv(xw @ X) @ xw @ Y\n",
    "    return xO @ beta"
   ]
  },
  {
   "cell_type": "code",
   "execution_count": 3,
   "id": "864f9f62",
   "metadata": {},
   "outputs": [],
   "source": [
    "def radial_kernel(xO, X, tau):\n",
    "    return np.exp(np.sum((X - xO) ** 2, axis=1) / (-2 * tau * tau))"
   ]
  },
  {
   "cell_type": "code",
   "execution_count": 4,
   "id": "a14f4462",
   "metadata": {},
   "outputs": [
    {
     "name": "stdout",
     "output_type": "stream",
     "text": [
      "The data set(10 samples) X:\n",
      " [-2.99399399 -2.98798799 -2.98198198 -2.97597598 -2.96996997 -2.96396396\n",
      " -2.95795796 -2.95195195 -2.94594595]\n",
      "The Fitting Curve Data Set(10 samples) Y:\n",
      " [2.13582188 2.13156806 2.12730467 2.12303166 2.11874898 2.11445659\n",
      " 2.11015444 2.10584249 2.10152068]\n"
     ]
    }
   ],
   "source": [
    "n = 1000\n",
    "X = np.linspace(-3, 3, num=n)\n",
    "print(\"The data set(10 samples) X:\\n\", X[1:10])\n",
    "Y = np.log(np.abs(X ** 2 - 1) + .5)\n",
    "print(\"The Fitting Curve Data Set(10 samples) Y:\\n\", Y[1:10])"
   ]
  },
  {
   "cell_type": "code",
   "execution_count": 5,
   "id": "dca32a77",
   "metadata": {
    "scrolled": true
   },
   "outputs": [
    {
     "name": "stdout",
     "output_type": "stream",
     "text": [
      "Normalized (10 samples) x:\n",
      " [-1.27084441 -2.67396753 -3.12131286 -4.62002037 -3.45551304 -2.95704744\n",
      " -3.82210645 -3.82091843 -4.14841766]\n"
     ]
    }
   ],
   "source": [
    "X += np.random.normal(scale=1, size=n)\n",
    "print(\"Normalized (10 samples) x:\\n\", X[1:10])"
   ]
  },
  {
   "cell_type": "code",
   "execution_count": 6,
   "id": "cf7215d1",
   "metadata": {},
   "outputs": [
    {
     "name": "stdout",
     "output_type": "stream",
     "text": [
      "Xo Domain Space(10 Samples) :\n",
      " [-2.97993311 -2.95986622 -2.93979933 -2.91973244 -2.89966555 -2.87959866\n",
      " -2.85953177 -2.83946488 -2.81939799]\n"
     ]
    }
   ],
   "source": [
    "domain = np.linspace(-3,3,num = 300)\n",
    "print(\"Xo Domain Space(10 Samples) :\\n\",domain[1:10])"
   ]
  },
  {
   "cell_type": "code",
   "execution_count": 25,
   "id": "d7d1910f",
   "metadata": {},
   "outputs": [],
   "source": [
    "def plot_lwr(tau):\n",
    "    prediction = [local_regression(xO, X, Y, tau) for xO in domain]\n",
    "    plot = figure(width=400, height=400)\n",
    "    plot.title.text = 'tau=%g' % tau\n",
    "    plot.scatter(X, Y,size=20,alpha=.3)\n",
    "    plot.line(X, prediction, line_width=2, color=\"red\")\n",
    "    return plot"
   ]
  },
  {
   "cell_type": "code",
   "execution_count": 26,
   "id": "83941f68",
   "metadata": {},
   "outputs": [
    {
     "name": "stderr",
     "output_type": "stream",
     "text": [
      "BokehUserWarning: ColumnDataSource's columns must be of the same length. Current lengths: ('x', 1000), ('y', 300)\n",
      "BokehUserWarning: ColumnDataSource's columns must be of the same length. Current lengths: ('x', 1000), ('y', 300)\n",
      "BokehUserWarning: ColumnDataSource's columns must be of the same length. Current lengths: ('x', 1000), ('y', 300)\n",
      "BokehUserWarning: ColumnDataSource's columns must be of the same length. Current lengths: ('x', 1000), ('y', 300)\n"
     ]
    }
   ],
   "source": [
    "show(gridplot([[plot_lwr(10), plot_lwr(1.0)], [plot_lwr(0.1), plot_lwr(0.01)]]))"
   ]
  },
  {
   "cell_type": "code",
   "execution_count": null,
   "id": "796732eb",
   "metadata": {},
   "outputs": [],
   "source": []
  }
 ],
 "metadata": {
  "kernelspec": {
   "display_name": "Python 3 (ipykernel)",
   "language": "python",
   "name": "python3"
  },
  "language_info": {
   "codemirror_mode": {
    "name": "ipython",
    "version": 3
   },
   "file_extension": ".py",
   "mimetype": "text/x-python",
   "name": "python",
   "nbconvert_exporter": "python",
   "pygments_lexer": "ipython3",
   "version": "3.11.4"
  }
 },
 "nbformat": 4,
 "nbformat_minor": 5
}
