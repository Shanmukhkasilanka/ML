{
 "cells": [
  {
   "cell_type": "code",
   "execution_count": 1,
   "id": "8af2b89b",
   "metadata": {},
   "outputs": [],
   "source": [
    "import numpy as np\n",
    "from bokeh.plotting import figure, show,output_notebook\n",
    "from bokeh.layouts import gridplot\n",
    "from bokeh.io import push_notebook\n",
    "\n"
   ]
  },
  {
   "cell_type": "code",
   "execution_count": 2,
   "id": "417717ce",
   "metadata": {},
   "outputs": [],
   "source": [
    "def local_regression(xO, X, Y, tau):\n",
    "    xO = np.r_[1,xO]\n",
    "    X = np.c_[np.ones(len(X)), X]\n",
    "    xw = X.T * radial_kernel(xO, X, tau)\n",
    "    beta = np.linalg.pinv(xw @ X) @ xw @ Y\n",
    "    return xO @ beta"
   ]
  },
  {
   "cell_type": "code",
   "execution_count": 3,
   "id": "864f9f62",
   "metadata": {},
   "outputs": [],
   "source": [
    "def radial_kernel(xO, X, tau):\n",
    "    return np.exp(np.sum((X - xO) ** 2, axis=1) / (-2 * tau * tau))"
   ]
  },
  {
   "cell_type": "code",
   "execution_count": 4,
   "id": "a14f4462",
   "metadata": {},
   "outputs": [
    {
     "name": "stdout",
     "output_type": "stream",
     "text": [
      "The data set(10 samples) X:\n",
      " [-2.99399399 -2.98798799 -2.98198198 -2.97597598 -2.96996997 -2.96396396\n",
      " -2.95795796 -2.95195195 -2.94594595]\n",
      "The Fitting Curve Data Set(10 samples) Y:\n",
      " [2.56217629 2.55940109 2.55662376 2.55384431 2.55106274 2.54827905\n",
      " 2.54549325 2.54270535 2.53991534]\n"
     ]
    }
   ],
   "source": [
    "n = 1000\n",
    "X = np.linspace(-3, 3, num=n)\n",
    "print(\"The data set(10 samples) X:\\n\", X[1:10])\n",
    "Y = np.log(np.abs(X ** 2 - 1) + 5)\n",
    "print(\"The Fitting Curve Data Set(10 samples) Y:\\n\", Y[1:10])"
   ]
  },
  {
   "cell_type": "code",
   "execution_count": 5,
   "id": "dca32a77",
   "metadata": {
    "scrolled": false
   },
   "outputs": [
    {
     "name": "stdout",
     "output_type": "stream",
     "text": [
      "Normalized (10 samples) x:\n",
      " [-2.32523925 -3.77779081 -3.99723311 -1.49417849 -3.89900336 -2.5251234\n",
      " -1.25597099 -3.40692534 -2.22766266]\n"
     ]
    }
   ],
   "source": [
    "X += np.random.normal(scale=0.1, size=n)\n",
    "print(\"Normalized (10 samples) x:\\n\", X[1:10])"
   ]
  },
  {
   "cell_type": "code",
   "execution_count": 6,
   "id": "59bf586a",
   "metadata": {},
   "outputs": [
    {
     "name": "stdout",
     "output_type": "stream",
     "text": [
      "Xo Domain Space(10 Samples) :\n",
      " [-2.99399399 -2.98798799 -2.98198198 -2.97597598 -2.96996997 -2.96396396\n",
      " -2.95795796 -2.95195195 -2.94594595]\n"
     ]
    }
   ],
   "source": [
    "domain = np.linspace(-3,3,num = 1000)\n",
    "print(\"Xo Domain Space(10 Samples) :\\n\",domain[1:10])"
   ]
  },
  {
   "cell_type": "code",
   "execution_count": 9,
   "id": "d7d1910f",
   "metadata": {},
   "outputs": [],
   "source": [
    "def plot_lwr(tau):\n",
    "    prediction = [local_regression(xO, X, Y, tau) for xO in domain]\n",
    "    plot = figure(width=400, height=400)\n",
    "    plot.title.text = 'tau=%g' % tau\n",
    "    plot.scatter(X, Y,alpha=3)\n",
    "    plot.line(X, prediction, line_width=2, color=\"red\")\n",
    "    return plot"
   ]
  },
  {
   "cell_type": "code",
   "execution_count": 10,
   "id": "83941f68",
   "metadata": {},
   "outputs": [],
   "source": [
    "show(gridplot([[plot_lwr(10), plot_lwr(1.0)], [plot_lwr(0.1), plot_lwr(0.01)]]))"
   ]
  },
  {
   "cell_type": "code",
   "execution_count": null,
   "id": "b44ed8a8",
   "metadata": {},
   "outputs": [],
   "source": []
  }
 ],
 "metadata": {
  "kernelspec": {
   "display_name": "Python 3 (ipykernel)",
   "language": "python",
   "name": "python3"
  },
  "language_info": {
   "codemirror_mode": {
    "name": "ipython",
    "version": 3
   },
   "file_extension": ".py",
   "mimetype": "text/x-python",
   "name": "python",
   "nbconvert_exporter": "python",
   "pygments_lexer": "ipython3",
   "version": "3.11.4"
  }
 },
 "nbformat": 4,
 "nbformat_minor": 5
}
