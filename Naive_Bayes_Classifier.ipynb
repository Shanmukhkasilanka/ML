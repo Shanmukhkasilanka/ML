{
 "cells": [
  {
   "cell_type": "code",
   "execution_count": 1,
   "id": "8581e25c",
   "metadata": {},
   "outputs": [],
   "source": [
    "import csv\n",
    "import random\n",
    "import math"
   ]
  },
  {
   "cell_type": "code",
   "execution_count": 2,
   "id": "abd7b4ee",
   "metadata": {},
   "outputs": [],
   "source": [
    "def loadcsv(filename):\n",
    "    lines = csv.reader(open(filename,'r'))\n",
    "    dataset = list(lines)\n",
    "    dataset.pop(0)\n",
    "    for i in range(len(dataset)):\n",
    "        dataset[i] = [float(x) for x in dataset[i]]\n",
    "    return dataset"
   ]
  },
  {
   "cell_type": "code",
   "execution_count": 3,
   "id": "1110f72c",
   "metadata": {},
   "outputs": [],
   "source": [
    "def splitdataset(dataset,splitratio):\n",
    "    trainsize = int(len(dataset) * splitratio)\n",
    "    trainset = []\n",
    "    copy = list(dataset)\n",
    "    while len(trainset) < trainsize :\n",
    "        index = random.randrange(len(copy))\n",
    "        trainset.append(copy.pop(index))\n",
    "    return [trainset,copy]"
   ]
  },
  {
   "cell_type": "code",
   "execution_count": 4,
   "id": "31217001",
   "metadata": {},
   "outputs": [],
   "source": [
    "def separatebyclass(dataset):\n",
    "    separated = {}\n",
    "    for i in range(len(dataset)):\n",
    "        vector = dataset[i]\n",
    "        if (vector[-1] not in separated):\n",
    "            separated[vector[-1]] = []\n",
    "        separated[vector[-1]].append(vector)\n",
    "    return separated"
   ]
  },
  {
   "cell_type": "code",
   "execution_count": 5,
   "id": "9f6e1a3c",
   "metadata": {},
   "outputs": [],
   "source": [
    "def mean(numbers):\n",
    "    return sum(numbers)/float(len(numbers))"
   ]
  },
  {
   "cell_type": "code",
   "execution_count": 6,
   "id": "5cc2584e",
   "metadata": {},
   "outputs": [],
   "source": [
    "def stdev(numbers):\n",
    "    avg = mean(numbers)\n",
    "    variance = sum([pow(x-avg,2) for x in numbers])/float(len(numbers))\n",
    "    return math.sqrt(variance)"
   ]
  },
  {
   "cell_type": "code",
   "execution_count": 7,
   "id": "a20df8c6",
   "metadata": {},
   "outputs": [],
   "source": [
    "def summarize(dataset):\n",
    "    summaries = [(mean(attribute) , stdev(attribute)) for attribute in zip(*dataset)]\n",
    "    del summaries[-1] \n",
    "    return summaries"
   ]
  },
  {
   "cell_type": "code",
   "execution_count": 8,
   "id": "ed8b04cc",
   "metadata": {},
   "outputs": [],
   "source": [
    "def summarizebyclass(dataset):\n",
    "    separated = separatebyclass(dataset)\n",
    "    summaries = {}\n",
    "    for classvalue,instances in separated.items():\n",
    "        summaries[classvalue] = summarize(instances)\n",
    "    return summaries"
   ]
  },
  {
   "cell_type": "code",
   "execution_count": 9,
   "id": "eea8be1b",
   "metadata": {},
   "outputs": [],
   "source": [
    "def calculateprobability(x,mean,stdev):\n",
    "    if stdev>0:\n",
    "        exponent = math.exp(-(math.pow(x-mean,2)/(2*math.pow(stdev,2))))\n",
    "        return (1/(math.sqrt(2*math.pi) * stdev)) * exponent\n",
    "    else:\n",
    "        return 1\n",
    "    "
   ]
  },
  {
   "cell_type": "code",
   "execution_count": 10,
   "id": "7ecf16cc",
   "metadata": {},
   "outputs": [],
   "source": [
    "def calculateclassprobabilities(summaries,inputvector):\n",
    "    probabilities = {}\n",
    "    for classvalue,classsummaries in summaries.items():\n",
    "        probabilities[classvalue] = 1\n",
    "        for i in range(len(classsummaries)):\n",
    "            mean,stdev = classsummaries[i]\n",
    "            x = inputvector[i]\n",
    "            probabilities[classvalue] *= calculateprobability(x,mean,stdev)\n",
    "    return probabilities"
   ]
  },
  {
   "cell_type": "code",
   "execution_count": 11,
   "id": "8153b95f",
   "metadata": {},
   "outputs": [],
   "source": [
    "def predict(summaries,inputvector):\n",
    "    probabilities = calculateclassprobabilities(summaries,inputvector)\n",
    "    bestLabel,bestProb = None,-1\n",
    "    for classvalue,probability in probabilities.items():\n",
    "        if bestLabel is None or probability>bestProb:\n",
    "            bestProb = probability\n",
    "            bestLabel = classvalue\n",
    "    return bestLabel"
   ]
  },
  {
   "cell_type": "code",
   "execution_count": 12,
   "id": "d2078f6e",
   "metadata": {},
   "outputs": [],
   "source": [
    "def getpredictions(summaries, testset):\n",
    "    predictions = []\n",
    "    for i in range(len(testset)):\n",
    "        result = predict(summaries,testset[i])\n",
    "        predictions.append(result)\n",
    "    return predictions"
   ]
  },
  {
   "cell_type": "code",
   "execution_count": 13,
   "id": "2949fe4b",
   "metadata": {},
   "outputs": [],
   "source": [
    "def getaccuracy(testset,predictions):\n",
    "    correct = 0\n",
    "    for i in range(len(testset)):\n",
    "        if testset[i][-1] == predictions[i]:\n",
    "            correct += 1\n",
    "    return (correct/float(len(testset))) * 100.0"
   ]
  },
  {
   "cell_type": "code",
   "execution_count": 40,
   "id": "fda33d44",
   "metadata": {},
   "outputs": [],
   "source": [
    "def main():\n",
    "    filename = 'diabetes.csv'\n",
    "    splitratio = 0.67\n",
    "    dataset = loadcsv(filename)\n",
    "    \n",
    "    trainingset,testset = splitdataset(dataset,splitratio)\n",
    "    print('Split {0} rows into train = {1} and test = {2} rows'.format(len(dataset), len(trainingset),len(testset)))\n",
    "    summaries = summarizebyclass(trainingset)\n",
    "    predictions = getpredictions(summaries,testset)\n",
    "    print([test[-1] for test in testset[:10]])\n",
    "    print(predictions[:10])\n",
    "    accuracy = getaccuracy(testset,predictions)\n",
    "    print('Accuracy of the classifier is : {0}%'.format(accuracy)) \n"
   ]
  },
  {
   "cell_type": "code",
   "execution_count": 42,
   "id": "4c38bc6c",
   "metadata": {},
   "outputs": [
    {
     "name": "stdout",
     "output_type": "stream",
     "text": [
      "Split 768 rows into train = 514 and test = 254 rows\n",
      "[1.0, 0.0, 1.0, 0.0, 1.0, 1.0, 0.0, 1.0, 0.0, 0.0]\n",
      "[1.0, 0.0, 1.0, 1.0, 1.0, 0.0, 1.0, 0.0, 1.0, 0.0]\n",
      "Accuracy of the classifier is : 78.34645669291339%\n"
     ]
    }
   ],
   "source": [
    "main()"
   ]
  },
  {
   "cell_type": "code",
   "execution_count": null,
   "id": "320e5e18",
   "metadata": {},
   "outputs": [],
   "source": []
  }
 ],
 "metadata": {
  "kernelspec": {
   "display_name": "Python 3 (ipykernel)",
   "language": "python",
   "name": "python3"
  },
  "language_info": {
   "codemirror_mode": {
    "name": "ipython",
    "version": 3
   },
   "file_extension": ".py",
   "mimetype": "text/x-python",
   "name": "python",
   "nbconvert_exporter": "python",
   "pygments_lexer": "ipython3",
   "version": "3.11.4"
  }
 },
 "nbformat": 4,
 "nbformat_minor": 5
}
